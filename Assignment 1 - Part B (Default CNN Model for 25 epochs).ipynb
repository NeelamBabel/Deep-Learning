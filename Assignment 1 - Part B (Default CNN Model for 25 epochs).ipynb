{
 "cells": [
  {
   "cell_type": "markdown",
   "metadata": {
    "colab_type": "text",
    "id": "f-o4-fJ3M3wh"
   },
   "source": [
    "# Part - 2 Convolutional Neural Network"
   ]
  },
  {
   "cell_type": "code",
   "execution_count": 39,
   "metadata": {
    "colab": {
     "base_uri": "https://localhost:8080/",
     "height": 35
    },
    "colab_type": "code",
    "id": "kCLuXpTJM_0P",
    "outputId": "767b437f-d0e8-459e-fbf9-276c985fdb58"
   },
   "outputs": [],
   "source": [
    "\n",
    "from __future__ import print_function\n",
    "import keras\n",
    "from keras.datasets import cifar10\n",
    "from keras.preprocessing.image import ImageDataGenerator\n",
    "from keras.models import Sequential\n",
    "from keras.layers import Dense, Dropout, Activation, Flatten\n",
    "from keras.layers import Conv2D, MaxPooling2D\n",
    "import os"
   ]
  },
  {
   "cell_type": "code",
   "execution_count": 40,
   "metadata": {
    "colab": {},
    "colab_type": "code",
    "collapsed": true,
    "id": "YQCfwNr9NP8-"
   },
   "outputs": [],
   "source": [
    "batch_size = 32\n",
    "num_classes = 10\n",
    "epochs=100\n",
    "data_augmentation = True\n",
    "num_predictions = 20\n",
    "save_dir = os.path.join(os.getcwd(), 'saved_models')\n",
    "model_name = 'keras_cifar10_trained_model_1.h5'"
   ]
  },
  {
   "cell_type": "code",
   "execution_count": 41,
   "metadata": {
    "colab": {
     "base_uri": "https://localhost:8080/",
     "height": 69
    },
    "colab_type": "code",
    "id": "LxJ5Gzp-NTJ2",
    "outputId": "663c01fa-640b-469f-83e7-f08dcd8047ab"
   },
   "outputs": [
    {
     "name": "stdout",
     "output_type": "stream",
     "text": [
      "x_train shape: (50000, 32, 32, 3)\n",
      "50000 train samples\n",
      "10000 test samples\n"
     ]
    }
   ],
   "source": [
    "(x_train, y_train), (x_test, y_test) = cifar10.load_data()\n",
    "print('x_train shape:', x_train.shape)\n",
    "print(x_train.shape[0], 'train samples')\n",
    "print(x_test.shape[0], 'test samples')"
   ]
  },
  {
   "cell_type": "code",
   "execution_count": 42,
   "metadata": {
    "colab": {},
    "colab_type": "code",
    "collapsed": true,
    "id": "O_u3c_xPNW3B"
   },
   "outputs": [],
   "source": [
    "y_train = keras.utils.to_categorical(y_train, num_classes)\n",
    "y_test = keras.utils.to_categorical(y_test, num_classes)\n"
   ]
  },
  {
   "cell_type": "code",
   "execution_count": 43,
   "metadata": {
    "colab": {},
    "colab_type": "code",
    "collapsed": true,
    "id": "1-jeIB6RNZ39"
   },
   "outputs": [],
   "source": [
    "model = Sequential()\n",
    "model.add(Conv2D(32, (3, 3), padding='same',\n",
    "                 input_shape=x_train.shape[1:]))\n",
    "model.add(Activation('relu'))\n",
    "model.add(Conv2D(32, (3, 3)))\n",
    "model.add(Activation('relu'))\n",
    "model.add(MaxPooling2D(pool_size=(2, 2)))\n",
    "model.add(Dropout(0.25))\n",
    "\n",
    "model.add(Conv2D(64, (3, 3), padding='same'))\n",
    "model.add(Activation('relu'))\n",
    "model.add(Conv2D(64, (3, 3)))\n",
    "model.add(Activation('relu'))\n",
    "model.add(MaxPooling2D(pool_size=(2, 2)))\n",
    "model.add(Dropout(0.25))\n",
    "\n",
    "model.add(Flatten())\n",
    "model.add(Dense(512))\n",
    "model.add(Activation('relu'))\n",
    "model.add(Dropout(0.5))\n",
    "model.add(Dense(num_classes))\n",
    "model.add(Activation('softmax'))\n",
    "\n",
    "# initiate RMSprop optimizer\n",
    "opt = keras.optimizers.rmsprop(lr=0.0001, decay=1e-6)"
   ]
  },
  {
   "cell_type": "code",
   "execution_count": 44,
   "metadata": {
    "colab": {},
    "colab_type": "code",
    "collapsed": true,
    "id": "xZYZLiy6Nbcd"
   },
   "outputs": [],
   "source": [
    "model.compile(loss='categorical_crossentropy',\n",
    "              optimizer=opt,\n",
    "              metrics=['accuracy'])\n"
   ]
  },
  {
   "cell_type": "code",
   "execution_count": 45,
   "metadata": {
    "colab": {},
    "colab_type": "code",
    "collapsed": true,
    "id": "0Y-Ibs6iNdQ0"
   },
   "outputs": [],
   "source": [
    "x_train = x_train.astype('float32')\n",
    "x_test = x_test.astype('float32')\n",
    "x_train /= 255\n",
    "x_test /= 255"
   ]
  },
  {
   "cell_type": "markdown",
   "metadata": {},
   "source": [
    "model.fit(x_train, y_train,\n",
    "          batch_size=batch_size,\n",
    "          epochs=25,\n",
    "          validation_data=(x_test, y_test),\n",
    "          shuffle=True)\n"
   ]
  },
  {
   "cell_type": "code",
   "execution_count": 27,
   "metadata": {
    "colab": {},
    "colab_type": "code",
    "id": "5VCQ6RGuNf43"
   },
   "outputs": [
    {
     "name": "stdout",
     "output_type": "stream",
     "text": [
      "Train on 50000 samples, validate on 10000 samples\n",
      "Epoch 1/25\n",
      "50000/50000 [==============================] - 1412s - loss: 1.7687 - acc: 0.3547 - val_loss: 1.5443 - val_acc: 0.4463\n",
      "Epoch 2/25\n",
      "50000/50000 [==============================] - 715s - loss: 1.4746 - acc: 0.4665 - val_loss: 1.3420 - val_acc: 0.5191\n",
      "Epoch 3/25\n",
      "50000/50000 [==============================] - 659s - loss: 1.3314 - acc: 0.5221 - val_loss: 1.2360 - val_acc: 0.5522\n",
      "Epoch 4/25\n",
      "50000/50000 [==============================] - 654s - loss: 1.2362 - acc: 0.5601 - val_loss: 1.1354 - val_acc: 0.5949\n",
      "Epoch 5/25\n",
      "50000/50000 [==============================] - 801s - loss: 1.1612 - acc: 0.5897 - val_loss: 1.0585 - val_acc: 0.6265\n",
      "Epoch 6/25\n",
      "50000/50000 [==============================] - 718s - loss: 1.0967 - acc: 0.6148 - val_loss: 1.0279 - val_acc: 0.6410\n",
      "Epoch 7/25\n",
      "50000/50000 [==============================] - 739s - loss: 1.0467 - acc: 0.6340 - val_loss: 0.9726 - val_acc: 0.6576\n",
      "Epoch 8/25\n",
      "50000/50000 [==============================] - 740s - loss: 0.9988 - acc: 0.6503 - val_loss: 0.9306 - val_acc: 0.6694\n",
      "Epoch 9/25\n",
      "50000/50000 [==============================] - 737s - loss: 0.9652 - acc: 0.6616 - val_loss: 0.9184 - val_acc: 0.6812\n",
      "Epoch 10/25\n",
      "50000/50000 [==============================] - 744s - loss: 0.9298 - acc: 0.6763 - val_loss: 0.8590 - val_acc: 0.6982\n",
      "Epoch 11/25\n",
      "50000/50000 [==============================] - 2690s - loss: 0.8981 - acc: 0.6873 - val_loss: 0.8678 - val_acc: 0.6999\n",
      "Epoch 12/25\n",
      "50000/50000 [==============================] - 745s - loss: 0.8777 - acc: 0.6953 - val_loss: 0.8292 - val_acc: 0.7114\n",
      "Epoch 13/25\n",
      "50000/50000 [==============================] - 537s - loss: 0.8530 - acc: 0.7038 - val_loss: 0.8240 - val_acc: 0.7158\n",
      "Epoch 14/25\n",
      "50000/50000 [==============================] - 414s - loss: 0.8337 - acc: 0.7096 - val_loss: 0.8766 - val_acc: 0.6926\n",
      "Epoch 15/25\n",
      "50000/50000 [==============================] - 416s - loss: 0.8137 - acc: 0.7197 - val_loss: 0.7801 - val_acc: 0.7295\n",
      "Epoch 16/25\n",
      "50000/50000 [==============================] - 421s - loss: 0.7989 - acc: 0.7243 - val_loss: 0.7643 - val_acc: 0.7330\n",
      "Epoch 17/25\n",
      "50000/50000 [==============================] - 416s - loss: 0.7883 - acc: 0.7279 - val_loss: 0.7492 - val_acc: 0.7431\n",
      "Epoch 18/25\n",
      "50000/50000 [==============================] - 410s - loss: 0.7788 - acc: 0.7301 - val_loss: 0.8153 - val_acc: 0.7205\n",
      "Epoch 19/25\n",
      "50000/50000 [==============================] - 1241s - loss: 0.7676 - acc: 0.7374 - val_loss: 0.7545 - val_acc: 0.7382\n",
      "Epoch 20/25\n",
      "50000/50000 [==============================] - 419s - loss: 0.7563 - acc: 0.7397 - val_loss: 0.7437 - val_acc: 0.7441\n",
      "Epoch 21/25\n",
      "50000/50000 [==============================] - 429s - loss: 0.7501 - acc: 0.7436 - val_loss: 0.7309 - val_acc: 0.7497\n",
      "Epoch 22/25\n",
      "50000/50000 [==============================] - 419s - loss: 0.7438 - acc: 0.7436 - val_loss: 0.7198 - val_acc: 0.7540\n",
      "Epoch 23/25\n",
      "50000/50000 [==============================] - 367s - loss: 0.7389 - acc: 0.7485 - val_loss: 0.7227 - val_acc: 0.7533\n",
      "Epoch 24/25\n",
      "50000/50000 [==============================] - 362s - loss: 0.7329 - acc: 0.7489 - val_loss: 0.7163 - val_acc: 0.7542\n",
      "Epoch 25/25\n",
      "50000/50000 [==============================] - 363s - loss: 0.7239 - acc: 0.7529 - val_loss: 0.7498 - val_acc: 0.7540\n"
     ]
    },
    {
     "ename": "TypeError",
     "evalue": "__init__() got an unexpected keyword argument 'validation_split'",
     "output_type": "error",
     "traceback": [
      "\u001b[0;31m---------------------------------------------------------------------------\u001b[0m",
      "\u001b[0;31mTypeError\u001b[0m                                 Traceback (most recent call last)",
      "\u001b[0;32m<ipython-input-27-429daf13ee32>\u001b[0m in \u001b[0;36m<module>\u001b[0;34m()\u001b[0m\n\u001b[1;32m     33\u001b[0m     \u001b[0mdata_format\u001b[0m\u001b[0;34m=\u001b[0m\u001b[0;32mNone\u001b[0m\u001b[0;34m,\u001b[0m\u001b[0;34m\u001b[0m\u001b[0m\n\u001b[1;32m     34\u001b[0m     \u001b[0;31m# fraction of images reserved for validation (strictly between 0 and 1)\u001b[0m\u001b[0;34m\u001b[0m\u001b[0;34m\u001b[0m\u001b[0m\n\u001b[0;32m---> 35\u001b[0;31m     validation_split=0.0)\n\u001b[0m\u001b[1;32m     36\u001b[0m \u001b[0;34m\u001b[0m\u001b[0m\n\u001b[1;32m     37\u001b[0m \u001b[0mdatagen\u001b[0m\u001b[0;34m.\u001b[0m\u001b[0mfit\u001b[0m\u001b[0;34m(\u001b[0m\u001b[0mx_train\u001b[0m\u001b[0;34m)\u001b[0m\u001b[0;34m\u001b[0m\u001b[0m\n",
      "\u001b[0;31mTypeError\u001b[0m: __init__() got an unexpected keyword argument 'validation_split'"
     ]
    }
   ],
   "source": [
    "\n",
    "# This will do preprocessing and realtime data augmentation:\n",
    "datagen = ImageDataGenerator(\n",
    "    featurewise_center=False,  # set input mean to 0 over the dataset\n",
    "    samplewise_center=False,  # set each sample mean to 0\n",
    "    featurewise_std_normalization=False,  # divide inputs by std of the dataset\n",
    "    samplewise_std_normalization=False,  # divide each input by its std\n",
    "    zca_whitening=False,  # apply ZCA whitening\n",
    "    zca_epsilon=1e-06,  # epsilon for ZCA whitening\n",
    "    rotation_range=0,  # randomly rotate images in the range (degrees, 0 to 180)\n",
    "    # randomly shift images horizontally (fraction of total width)\n",
    "    width_shift_range=0.1,\n",
    "    # randomly shift images vertically (fraction of total height)\n",
    "    height_shift_range=0.1,\n",
    "    shear_range=0.,  # set range for random shear\n",
    "    zoom_range=0.,  # set range for random zoom\n",
    "    channel_shift_range=0.,  # set range for random channel shifts\n",
    "    # set mode for filling points outside the input boundaries\n",
    "    fill_mode='nearest',\n",
    "    cval=0.,  # value used for fill_mode = \"constant\"\n",
    "    horizontal_flip=True,  # randomly flip images\n",
    "    vertical_flip=False,  # randomly flip images\n",
    "    # set rescaling factor (applied before any other transformation)\n",
    "    rescale=None,\n",
    "    # set function that will be applied on each input\n",
    "    preprocessing_function=None,\n",
    "    # image data format, either \"channels_first\" or \"channels_last\"\n",
    "    data_format=None,\n",
    "    # fraction of images reserved for validation (strictly between 0 and 1)\n",
    "    validation_split=0.0)\n",
    "\n",
    "datagen.fit(x_train)\n",
    "    \n",
    "\n",
    "model.fit_generator(datagen.flow(x_train, y_train,\n",
    "                                     batch_size=batch_size),\n",
    "                        epochs=epochs,\n",
    "                        validation_data=(x_test, y_test),\n",
    "                        shuffle=True)"
   ]
  },
  {
   "cell_type": "code",
   "execution_count": 28,
   "metadata": {
    "colab": {
     "base_uri": "https://localhost:8080/",
     "height": 70
    },
    "colab_type": "code",
    "id": "jHYAgxxIryQ8",
    "outputId": "a28b869b-7cb3-42fb-f5aa-dc59cde16efb"
   },
   "outputs": [
    {
     "name": "stdout",
     "output_type": "stream",
     "text": [
      "10000/10000 [==============================] - 22s    \n",
      "Test loss: 0.74982434206\n",
      "Test accuracy: 0.754\n"
     ]
    }
   ],
   "source": [
    "scores = model.evaluate(x_test, y_test, verbose=1)\n",
    "print('Test loss:', scores[0])\n",
    "print('Test accuracy:', scores[1])"
   ]
  }
 ],
 "metadata": {
  "accelerator": "TPU",
  "colab": {
   "collapsed_sections": [],
   "name": "Assignment-1b_Cognitive Computing Systems.ipynb",
   "provenance": [],
   "version": "0.3.2"
  },
  "kernelspec": {
   "display_name": "Python 3",
   "language": "python",
   "name": "python3"
  },
  "language_info": {
   "codemirror_mode": {
    "name": "ipython",
    "version": 3
   },
   "file_extension": ".py",
   "mimetype": "text/x-python",
   "name": "python",
   "nbconvert_exporter": "python",
   "pygments_lexer": "ipython3",
   "version": "3.6.1"
  }
 },
 "nbformat": 4,
 "nbformat_minor": 1
}
