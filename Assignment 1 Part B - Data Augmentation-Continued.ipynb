{
 "cells": [
  {
   "cell_type": "markdown",
   "metadata": {},
   "source": [
    "Use Case 3 - Rotatin by 10 Degrees and applying a height shift of 0.2"
   ]
  },
  {
   "cell_type": "code",
   "execution_count": 10,
   "metadata": {},
   "outputs": [],
   "source": [
    "from __future__ import print_function\n",
    "import keras\n",
    "from keras.datasets import cifar10\n",
    "from keras.preprocessing.image import ImageDataGenerator\n",
    "from keras.models import Sequential\n",
    "from keras.layers import Dense, Dropout, Activation, Flatten\n",
    "from keras.layers import Conv2D, MaxPooling2D\n",
    "import os"
   ]
  },
  {
   "cell_type": "code",
   "execution_count": 11,
   "metadata": {
    "collapsed": true
   },
   "outputs": [],
   "source": [
    "batch_size = 32\n",
    "num_classes = 10\n",
    "epochs = 25\n",
    "data_augmentation = True\n",
    "num_predictions = 20\n",
    "save_dir = os.path.join(os.getcwd(), 'saved_models')\n",
    "model_name = 'keras_cifar10_trained_model.h5'"
   ]
  },
  {
   "cell_type": "markdown",
   "metadata": {},
   "source": []
  },
  {
   "cell_type": "markdown",
   "metadata": {},
   "source": [
    "Splitting the data into training and test samples"
   ]
  },
  {
   "cell_type": "code",
   "execution_count": 12,
   "metadata": {
    "scrolled": true
   },
   "outputs": [
    {
     "name": "stdout",
     "output_type": "stream",
     "text": [
      "x_train shape: (50000, 32, 32, 3)\n",
      "50000 train samples\n",
      "10000 test samples\n"
     ]
    }
   ],
   "source": [
    "(x_train, y_train), (x_test, y_test) = cifar10.load_data()\n",
    "print('x_train shape:', x_train.shape)\n",
    "print(x_train.shape[0], 'train samples')\n",
    "print(x_test.shape[0], 'test samples')"
   ]
  },
  {
   "cell_type": "markdown",
   "metadata": {},
   "source": []
  },
  {
   "cell_type": "markdown",
   "metadata": {},
   "source": [
    "Convert class vectors to binary class metrices"
   ]
  },
  {
   "cell_type": "code",
   "execution_count": 13,
   "metadata": {
    "collapsed": true
   },
   "outputs": [],
   "source": [
    "y_train = keras.utils.to_categorical(y_train, num_classes)\n",
    "y_test = keras.utils.to_categorical(y_test, num_classes)\n"
   ]
  },
  {
   "cell_type": "markdown",
   "metadata": {},
   "source": []
  },
  {
   "cell_type": "markdown",
   "metadata": {},
   "source": [
    "Defining the CNN Architecture"
   ]
  },
  {
   "cell_type": "code",
   "execution_count": 14,
   "metadata": {
    "collapsed": true
   },
   "outputs": [],
   "source": [
    "model = Sequential()\n",
    "model.add(Conv2D(32, (3, 3), padding='same',\n",
    "                 input_shape=x_train.shape[1:]))\n",
    "model.add(Activation('relu'))\n",
    "model.add(Conv2D(32, (3, 3)))\n",
    "model.add(Activation('relu'))\n",
    "model.add(MaxPooling2D(pool_size=(2, 2)))\n",
    "model.add(Dropout(0.25))\n",
    "\n",
    "model.add(Conv2D(64, (3, 3), padding='same'))\n",
    "model.add(Activation('relu'))\n",
    "model.add(Conv2D(64, (3, 3)))\n",
    "model.add(Activation('relu'))\n",
    "model.add(MaxPooling2D(pool_size=(2, 2)))\n",
    "model.add(Dropout(0.25))\n",
    "\n",
    "model.add(Flatten())\n",
    "model.add(Dense(512))\n",
    "model.add(Activation('relu'))\n",
    "model.add(Dropout(0.5))\n",
    "model.add(Dense(num_classes))\n",
    "model.add(Activation('softmax'))\n",
    "\n",
    "# initiate RMSprop optimizer\n",
    "opt = keras.optimizers.rmsprop(lr=0.0001, decay=1e-6)"
   ]
  },
  {
   "cell_type": "code",
   "execution_count": 15,
   "metadata": {
    "collapsed": true
   },
   "outputs": [],
   "source": [
    "# Let's train the model using RMSprop\n",
    "model.compile(loss='categorical_crossentropy',\n",
    "              optimizer=opt,\n",
    "              metrics=['accuracy'])\n",
    "\n",
    "x_train = x_train.astype('float32')\n",
    "x_test = x_test.astype('float32')\n",
    "x_train /= 255\n",
    "x_test /= 255\n"
   ]
  },
  {
   "cell_type": "code",
   "execution_count": 16,
   "metadata": {
    "collapsed": true
   },
   "outputs": [],
   "source": [
    "datagen = ImageDataGenerator(\n",
    "        featurewise_center=False,  # set input mean to 0 over the dataset\n",
    "        samplewise_center=False,  # set each sample mean to 0\n",
    "        featurewise_std_normalization=False,  # divide inputs by std of the dataset\n",
    "        samplewise_std_normalization=False,  # divide each input by its std\n",
    "        zca_whitening=False,  # apply ZCA whitening\n",
    "        zca_epsilon=1e-06,  # epsilon for ZCA whitening\n",
    "        rotation_range=10,  # randomly rotate images in the range (degrees, 0 to 180)\n",
    "        # randomly shift images horizontally (fraction of total width)\n",
    "        width_shift_range=0.1,\n",
    "        # randomly shift images vertically (fraction of total height)\n",
    "        height_shift_range=0.2,\n",
    "        shear_range=0.,  # set range for random shear\n",
    "        zoom_range=0.,  # set range for random zoom\n",
    "        channel_shift_range=0.,  # set range for random channel shifts\n",
    "        # set mode for filling points outside the input boundaries\n",
    "        fill_mode='nearest',\n",
    "        cval=0.,  # value used for fill_mode = \"constant\"\n",
    "        horizontal_flip=True,  # randomly flip images\n",
    "        vertical_flip=False,  # randomly flip images\n",
    "        # set rescaling factor (applied before any other transformation)\n",
    "        rescale=None,\n",
    "        # set function that will be applied on each input\n",
    "        preprocessing_function=None,\n",
    "        # image data format, either \"channels_first\" or \"channels_last\"\n",
    "        data_format=None)\n",
    "        # fraction of images reserved for validation (strictly between 0 and 1)\n",
    "        #validation_split=0.0)"
   ]
  },
  {
   "cell_type": "code",
   "execution_count": 17,
   "metadata": {},
   "outputs": [
    {
     "name": "stdout",
     "output_type": "stream",
     "text": [
      "Epoch 1/25\n",
      "2000/2000 [==============================] - 998s - loss: 1.8882 - acc: 0.3009   \n",
      "Epoch 2/25\n",
      "2000/2000 [==============================] - 947s - loss: 1.6135 - acc: 0.4088   \n",
      "Epoch 3/25\n",
      "2000/2000 [==============================] - 947s - loss: 1.4997 - acc: 0.4590   \n",
      "Epoch 4/25\n",
      "2000/2000 [==============================] - 963s - loss: 1.4234 - acc: 0.4893   \n",
      "Epoch 5/25\n",
      "2000/2000 [==============================] - 1498s - loss: 1.3565 - acc: 0.5164  \n",
      "Epoch 6/25\n",
      "2000/2000 [==============================] - 4656s - loss: 1.2976 - acc: 0.5391  \n",
      "Epoch 7/25\n",
      "2000/2000 [==============================] - 1486s - loss: 1.2488 - acc: 0.5554  \n",
      "Epoch 8/25\n",
      "2000/2000 [==============================] - 1138s - loss: 1.2086 - acc: 0.5715  \n",
      "Epoch 9/25\n",
      "2000/2000 [==============================] - 1512s - loss: 1.1719 - acc: 0.5849  \n",
      "Epoch 10/25\n",
      "2000/2000 [==============================] - 933s - loss: 1.1430 - acc: 0.5966   \n",
      "Epoch 11/25\n",
      "2000/2000 [==============================] - 1001s - loss: 1.1202 - acc: 0.6049  \n",
      "Epoch 12/25\n",
      "2000/2000 [==============================] - 750s - loss: 1.0909 - acc: 0.6157   \n",
      "Epoch 13/25\n",
      "2000/2000 [==============================] - 493s - loss: 1.0735 - acc: 0.6227   \n",
      "Epoch 14/25\n",
      "2000/2000 [==============================] - 540s - loss: 1.0580 - acc: 0.6298   \n",
      "Epoch 15/25\n",
      "2000/2000 [==============================] - 553s - loss: 1.0374 - acc: 0.6367   \n",
      "Epoch 16/25\n",
      "2000/2000 [==============================] - 502s - loss: 1.0350 - acc: 0.6369   \n",
      "Epoch 17/25\n",
      "2000/2000 [==============================] - 1007s - loss: 1.0147 - acc: 0.6468  \n",
      "Epoch 18/25\n",
      "2000/2000 [==============================] - 533s - loss: 1.0085 - acc: 0.6491   \n",
      "Epoch 19/25\n",
      "2000/2000 [==============================] - 578s - loss: 0.9983 - acc: 0.6532   \n",
      "Epoch 20/25\n",
      "2000/2000 [==============================] - 551s - loss: 0.9913 - acc: 0.6551   \n",
      "Epoch 21/25\n",
      "2000/2000 [==============================] - 549s - loss: 0.9816 - acc: 0.6605   \n",
      "Epoch 22/25\n",
      "2000/2000 [==============================] - 502s - loss: 0.9776 - acc: 0.6610   \n",
      "Epoch 23/25\n",
      "2000/2000 [==============================] - 513s - loss: 0.9735 - acc: 0.6619   \n",
      "Epoch 24/25\n",
      "2000/2000 [==============================] - 503s - loss: 0.9639 - acc: 0.6689   \n",
      "Epoch 25/25\n",
      "2000/2000 [==============================] - 524s - loss: 0.9614 - acc: 0.6680   \n"
     ]
    },
    {
     "data": {
      "text/plain": [
       "<keras.callbacks.History at 0x1235b5780>"
      ]
     },
     "execution_count": 17,
     "metadata": {},
     "output_type": "execute_result"
    }
   ],
   "source": [
    "    # Compute quantities required for feature-wise normalization\n",
    "    # (std, mean, and principal components if ZCA whitening is applied).\n",
    "    datagen.fit(x_train)\n",
    "\n",
    "    model.fit_generator(datagen.flow(x_train, y_train, batch_size=32),\n",
    "                    steps_per_epoch= 2000, epochs= 25)"
   ]
  },
  {
   "cell_type": "markdown",
   "metadata": {},
   "source": [
    "Evaluating the model on test data"
   ]
  },
  {
   "cell_type": "code",
   "execution_count": 18,
   "metadata": {},
   "outputs": [
    {
     "name": "stdout",
     "output_type": "stream",
     "text": [
      "Saved trained model at /Users/neelambabel/Desktop/Cognitive Computing/saved_models/keras_cifar10_trained_model.h5 \n",
      " 9984/10000 [============================>.] - ETA: 0sTest loss: 0.779876370049\n"
     ]
    }
   ],
   "source": [
    "# Save model and weights\n",
    "if not os.path.isdir(save_dir):\n",
    "    os.makedirs(save_dir)\n",
    "model_path = os.path.join(save_dir, model_name)\n",
    "model.save(model_path)\n",
    "print('Saved trained model at %s ' % model_path)\n",
    "\n",
    "# Score trained model.\n",
    "scores = model.evaluate(x_test, y_test, verbose=1)\n",
    "print('Test loss:', scores[0])\n"
   ]
  },
  {
   "cell_type": "markdown",
   "metadata": {},
   "source": [
    "Again, the model seems to be underfitting, hence more training samples should be considered for training the data to bridge the training and test datagap."
   ]
  }
 ],
 "metadata": {
  "kernelspec": {
   "display_name": "Python 3",
   "language": "python",
   "name": "python3"
  },
  "language_info": {
   "codemirror_mode": {
    "name": "ipython",
    "version": 3
   },
   "file_extension": ".py",
   "mimetype": "text/x-python",
   "name": "python",
   "nbconvert_exporter": "python",
   "pygments_lexer": "ipython3",
   "version": "3.6.1"
  }
 },
 "nbformat": 4,
 "nbformat_minor": 2
}
